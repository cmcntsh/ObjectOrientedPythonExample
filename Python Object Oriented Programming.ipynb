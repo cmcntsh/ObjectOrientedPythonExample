{
 "cells": [
  {
   "cell_type": "markdown",
   "metadata": {},
   "source": [
    "# Corey Schafer Python OOP videos\n",
    "\n",
    "Video #1: https://www.youtube.com/watch?v=ZDa-Z5JzLYM"
   ]
  },
  {
   "cell_type": "code",
   "execution_count": 1,
   "metadata": {},
   "outputs": [],
   "source": [
    "# class\n",
    "class Employee:\n",
    "    pass"
   ]
  },
  {
   "cell_type": "code",
   "execution_count": 2,
   "metadata": {},
   "outputs": [],
   "source": [
    "# class with init method and parameters\n",
    "class Employee:\n",
    "    def __init__(self, first, last, pay):\n",
    "        self.first = first\n",
    "        self.last = last\n",
    "        self.pay = pay\n",
    "        self.email = first + '.' + last + '@company.com'"
   ]
  },
  {
   "cell_type": "code",
   "execution_count": 3,
   "metadata": {},
   "outputs": [
    {
     "name": "stdout",
     "output_type": "stream",
     "text": [
      "Corey.Schafer@company.com\n",
      "Test.User@company.com\n",
      "Corey Schafer\n"
     ]
    }
   ],
   "source": [
    "# instances of a class\n",
    "emp_1 = Employee('Corey', 'Schafer', 50000)\n",
    "emp_2 = Employee('Test', 'User', 60000)\n",
    "\n",
    "print(emp_1.email)\n",
    "print(emp_2.email)\n",
    "\n",
    "print('{} {}'.format(emp_1.first, emp_1.last))"
   ]
  },
  {
   "cell_type": "code",
   "execution_count": 4,
   "metadata": {},
   "outputs": [],
   "source": [
    "# class with a method\n",
    "class Employee:\n",
    "    def __init__(self, first, last, pay):\n",
    "        self.first = first\n",
    "        self.last = last\n",
    "        self.pay = pay\n",
    "        self.email = first + '.' + last + '@company.com'\n",
    "        \n",
    "    def fullname(self):\n",
    "        return '{} {}'.format(self.first, self.last)"
   ]
  },
  {
   "cell_type": "code",
   "execution_count": 5,
   "metadata": {},
   "outputs": [
    {
     "name": "stdout",
     "output_type": "stream",
     "text": [
      "Corey Schafer\n",
      "Test User\n",
      "Corey Schafer\n",
      "Test User\n"
     ]
    }
   ],
   "source": [
    "# instances using the method\n",
    "emp_1 = Employee('Corey', 'Schafer', 50000)\n",
    "emp_2 = Employee('Test', 'User', 60000)\n",
    "\n",
    "### BEGIN SOLUTION\n",
    "print(emp_1.fullname())\n",
    "print(emp_2.fullname())\n",
    "print(Employee.fullname(emp_1))\n",
    "print(Employee.fullname(emp_2))"
   ]
  },
  {
   "cell_type": "markdown",
   "metadata": {},
   "source": [
    "Video #2: https://www.youtube.com/watch?v=BJ-VvGyQxho"
   ]
  },
  {
   "cell_type": "code",
   "execution_count": 7,
   "metadata": {},
   "outputs": [
    {
     "name": "stdout",
     "output_type": "stream",
     "text": [
      "1.04\n",
      "1.04\n",
      "1.04\n"
     ]
    }
   ],
   "source": [
    "# Class with class variable\n",
    "class Employee:\n",
    "    \n",
    "    raise_amount = 1.04\n",
    "    \n",
    "    def __init__(self, first, last, pay):\n",
    "        self.first = first\n",
    "        self.last = last\n",
    "        self.pay = pay\n",
    "        self.email = first + '.' + last + '@company.com'\n",
    "        \n",
    "    def fullname(self):\n",
    "        return '{} {}'.format(self.first, self.last)\n",
    "    \n",
    "    def apply_raise(self):\n",
    "        self.pay = int(self.pay * self.raise_amount)\n",
    "        \n",
    "emp_1 = Employee('Corey', 'Schafer', 50000)\n",
    "emp_2 = Employee('Test', 'User', 60000)\n",
    "        \n",
    "print(Employee.raise_amount)\n",
    "print(emp_1.raise_amount)\n",
    "print(emp_2.raise_amount)"
   ]
  },
  {
   "cell_type": "code",
   "execution_count": 8,
   "metadata": {},
   "outputs": [
    {
     "name": "stdout",
     "output_type": "stream",
     "text": [
      "{'first': 'Corey', 'last': 'Schafer', 'pay': 50000, 'email': 'Corey.Schafer@company.com'}\n",
      "{'__module__': '__main__', 'raise_amount': 1.04, '__init__': <function Employee.__init__ at 0x0000013216222310>, 'fullname': <function Employee.fullname at 0x0000013216222550>, 'apply_raise': <function Employee.apply_raise at 0x00000132162225E0>, '__dict__': <attribute '__dict__' of 'Employee' objects>, '__weakref__': <attribute '__weakref__' of 'Employee' objects>, '__doc__': None}\n"
     ]
    }
   ],
   "source": [
    "# Namespace for the class and the instance\n",
    "print(emp_1.__dict__)\n",
    "print(Employee.__dict__)"
   ]
  },
  {
   "cell_type": "markdown",
   "metadata": {},
   "source": [
    "Video #3: https://www.youtube.com/watch?v=rq8cL2XMM5M"
   ]
  },
  {
   "cell_type": "code",
   "execution_count": 10,
   "metadata": {},
   "outputs": [
    {
     "name": "stdout",
     "output_type": "stream",
     "text": [
      "1.05\n",
      "1.05\n",
      "1.05\n"
     ]
    }
   ],
   "source": [
    "# classmethod decorator\n",
    "class Employee:\n",
    "    \n",
    "    num_of_emps = 0\n",
    "    raise_amount = 1.04\n",
    "    \n",
    "    def __init__(self, first, last, pay):\n",
    "        self.first = first\n",
    "        self.last = last\n",
    "        self.pay = pay\n",
    "        self.email = first + '.' + last + '@company.com'\n",
    "        \n",
    "        Employee.num_of_emps += 1\n",
    "        \n",
    "    def fullname(self):\n",
    "        return '{} {}'.format(self.first, self.last)\n",
    "    \n",
    "    def apply_raise(self):\n",
    "        self.pay = int(self.pay * self.raise_amount)\n",
    "        \n",
    "    @classmethod\n",
    "    def set_raise_amt(cls, amount):\n",
    "        cls.raise_amount = amount\n",
    "        \n",
    "emp_1 = Employee('Corey', 'Schafer', 50000)\n",
    "emp_2 = Employee('Test', 'User', 60000)\n",
    "\n",
    "Employee.set_raise_amt(1.05)\n",
    "\n",
    "print(Employee.raise_amount)\n",
    "print(emp_1.raise_amount)\n",
    "print(emp_2.raise_amount)"
   ]
  },
  {
   "cell_type": "markdown",
   "metadata": {},
   "source": [
    "Video #4: https://www.youtube.com/watch?v=RSl87lqOXDE"
   ]
  },
  {
   "cell_type": "code",
   "execution_count": 12,
   "metadata": {},
   "outputs": [
    {
     "name": "stdout",
     "output_type": "stream",
     "text": [
      "Corey.Schafer@email.com\n",
      "Test.User@email.com\n",
      "Help on class Developer in module __main__:\n",
      "\n",
      "class Developer(Employee)\n",
      " |  Developer(first, last, pay)\n",
      " |  \n",
      " |  Method resolution order:\n",
      " |      Developer\n",
      " |      Employee\n",
      " |      builtins.object\n",
      " |  \n",
      " |  Methods inherited from Employee:\n",
      " |  \n",
      " |  __init__(self, first, last, pay)\n",
      " |      Initialize self.  See help(type(self)) for accurate signature.\n",
      " |  \n",
      " |  apply_raise(self)\n",
      " |  \n",
      " |  fullname(self)\n",
      " |  \n",
      " |  ----------------------------------------------------------------------\n",
      " |  Data descriptors inherited from Employee:\n",
      " |  \n",
      " |  __dict__\n",
      " |      dictionary for instance variables (if defined)\n",
      " |  \n",
      " |  __weakref__\n",
      " |      list of weak references to the object (if defined)\n",
      " |  \n",
      " |  ----------------------------------------------------------------------\n",
      " |  Data and other attributes inherited from Employee:\n",
      " |  \n",
      " |  num_of_emps = 2\n",
      " |  \n",
      " |  raise_amount = 1.04\n",
      "\n",
      "None\n"
     ]
    }
   ],
   "source": [
    "# Inheritance\n",
    "# Developer inherits from Employee\n",
    "class Employee:\n",
    "    \n",
    "    num_of_emps = 0\n",
    "    raise_amount = 1.04\n",
    "    \n",
    "    def __init__(self, first, last, pay):\n",
    "        self.first = first\n",
    "        self.last = last\n",
    "        self.pay = pay\n",
    "        self.email = first + '.' + last + '@email.com'\n",
    "        \n",
    "        Employee.num_of_emps += 1\n",
    "        \n",
    "    def fullname(self):\n",
    "        return '{} {}'.format(self.first, self.last)\n",
    "    \n",
    "    def apply_raise(self):\n",
    "        self.pay = int(self.pay * self.raise_amount)\n",
    "        \n",
    "        \n",
    "class Developer(Employee):\n",
    "    pass\n",
    "        \n",
    "dev_1 = Developer('Corey', 'Schafer', 50000)\n",
    "dev_2 = Developer('Test', 'User', 60000)\n",
    "\n",
    "print(dev_1.email)\n",
    "print(dev_2.email)\n",
    "\n",
    "print(help(Developer))"
   ]
  },
  {
   "cell_type": "code",
   "execution_count": 13,
   "metadata": {},
   "outputs": [
    {
     "name": "stdout",
     "output_type": "stream",
     "text": [
      "Corey.Schafer@email.com\n",
      "Python\n"
     ]
    }
   ],
   "source": [
    "# super()\n",
    "\n",
    "class Developer(Employee):\n",
    "    raise_amt = 1.10\n",
    "    \n",
    "    def __init__(self, first, last, pay, prog_lang):\n",
    "        super().__init__(first, last, pay)\n",
    "        #Employee.__init__(self, first, last, pay)\n",
    "        self.prog_lang = prog_lang\n",
    "\n",
    "dev_1 = Developer('Corey', 'Schafer', 50000, 'Python')\n",
    "dev_2 = Developer('Test', 'User', 60000, 'Java')\n",
    "\n",
    "print(dev_1.email)\n",
    "print(dev_1.prog_lang)"
   ]
  },
  {
   "cell_type": "code",
   "execution_count": 15,
   "metadata": {},
   "outputs": [
    {
     "name": "stdout",
     "output_type": "stream",
     "text": [
      "Sue.Smith@email.com\n",
      "--> Corey Schafer\n",
      "True\n",
      "False\n"
     ]
    }
   ],
   "source": [
    "# isinstance()\n",
    "# issubclass()\n",
    "\n",
    "class Manager(Employee):\n",
    "    \n",
    "    def __init__(self, first, last, pay, employees=None):\n",
    "        super().__init__(first, last, pay)\n",
    "        #Employee.__init__(self, first, last, pay)\n",
    "        if employees is None:\n",
    "            self.employees = []\n",
    "        else:\n",
    "            self.employees = employees\n",
    "            \n",
    "    def add_emp(self, emp):\n",
    "        if emp not in self.employees:\n",
    "            self.employees.append(emp)\n",
    "            \n",
    "    def remove_emp(self, emp):\n",
    "        if emp in self.employees:\n",
    "            self.employees.remove(emp)\n",
    "            \n",
    "    def print_emps(self):\n",
    "        for emp in self.employees:\n",
    "            print('-->', emp.fullname())\n",
    "            \n",
    "            \n",
    "mgr_1 = Manager('Sue', 'Smith', 90000, [dev_1])\n",
    "\n",
    "print(mgr_1.email)\n",
    "mgr_1.print_emps()\n",
    "mgr_1.add_emp(dev_2)\n",
    "mgr_1.remove_emp(dev_1)\n",
    "\n",
    "print(isinstance(mgr_1, Manager))\n",
    "print(issubclass(Manager, Developer))"
   ]
  },
  {
   "cell_type": "markdown",
   "metadata": {},
   "source": [
    "Video #5: https://www.youtube.com/watch?v=3ohzBxoFHAY"
   ]
  },
  {
   "cell_type": "code",
   "execution_count": 17,
   "metadata": {},
   "outputs": [
    {
     "name": "stdout",
     "output_type": "stream",
     "text": [
      "<__main__.Employee object at 0x0000013216235580>\n",
      "<__main__.Employee object at 0x0000013216235580>\n",
      "<__main__.Employee object at 0x0000013216235580>\n"
     ]
    }
   ],
   "source": [
    "# Special (magic/Dunder) methods\n",
    "class Employee:\n",
    "    \n",
    "    num_of_emps = 0\n",
    "    raise_amount = 1.04\n",
    "    \n",
    "    def __init__(self, first, last, pay):\n",
    "        self.first = first\n",
    "        self.last = last\n",
    "        self.pay = pay\n",
    "        self.email = first + '.' + last + '@email.com'\n",
    "        \n",
    "        Employee.num_of_emps += 1\n",
    "        \n",
    "    def fullname(self):\n",
    "        return '{} {}'.format(self.first, self.last)\n",
    "    \n",
    "    def apply_raise(self):\n",
    "        self.pay = int(self.pay * self.raise_amount)\n",
    "        \n",
    "    def __repr__(self):\n",
    "        return \"Employee('{}', '{}', '{}')\".format(self.first, self.last, self.pay)\n",
    "    \n",
    "    def __str__(self):\n",
    "        return '{} - {}'.format(self.fullname(), self.email)\n",
    "    \n",
    "    def __add__(self, other):\n",
    "        return self.pay + other.pay\n",
    "    \n",
    "    def __len__(self):\n",
    "        return len(self.fullname())\n",
    "        \n",
    "dev_1 = Employee('Corey', 'Schafer', 50000)\n",
    "dev_2 = Employee('Test', 'User', 60000)\n",
    "\n",
    "print(emp_1)\n",
    "print(repr(emp_1))\n",
    "print(str(emp_1))"
   ]
  },
  {
   "cell_type": "markdown",
   "metadata": {},
   "source": [
    "Video #6: https://www.youtube.com/watch?v=jCzT9XFZ5bw"
   ]
  },
  {
   "cell_type": "code",
   "execution_count": 19,
   "metadata": {},
   "outputs": [
    {
     "ename": "AttributeError",
     "evalue": "can't set attribute",
     "output_type": "error",
     "traceback": [
      "\u001b[1;31m---------------------------------------------------------------------------\u001b[0m",
      "\u001b[1;31mAttributeError\u001b[0m                            Traceback (most recent call last)",
      "\u001b[1;32m<ipython-input-19-2d111f7ff816>\u001b[0m in \u001b[0;36m<module>\u001b[1;34m\u001b[0m\n\u001b[0;32m     28\u001b[0m         \u001b[0mself\u001b[0m\u001b[1;33m.\u001b[0m\u001b[0mlast\u001b[0m \u001b[1;33m=\u001b[0m \u001b[1;32mNone\u001b[0m\u001b[1;33m\u001b[0m\u001b[1;33m\u001b[0m\u001b[0m\n\u001b[0;32m     29\u001b[0m \u001b[1;33m\u001b[0m\u001b[0m\n\u001b[1;32m---> 30\u001b[1;33m \u001b[0memp_1\u001b[0m \u001b[1;33m=\u001b[0m \u001b[0mEmployee\u001b[0m\u001b[1;33m(\u001b[0m\u001b[1;34m'John'\u001b[0m\u001b[1;33m,\u001b[0m \u001b[1;34m'Smith'\u001b[0m\u001b[1;33m)\u001b[0m\u001b[1;33m\u001b[0m\u001b[1;33m\u001b[0m\u001b[0m\n\u001b[0m\u001b[0;32m     31\u001b[0m \u001b[1;33m\u001b[0m\u001b[0m\n\u001b[0;32m     32\u001b[0m \u001b[0memp_1\u001b[0m\u001b[1;33m.\u001b[0m\u001b[0mfullname\u001b[0m \u001b[1;33m=\u001b[0m \u001b[1;34m'Corey Schafer'\u001b[0m\u001b[1;33m\u001b[0m\u001b[1;33m\u001b[0m\u001b[0m\n",
      "\u001b[1;32m<ipython-input-19-2d111f7ff816>\u001b[0m in \u001b[0;36m__init__\u001b[1;34m(self, first, last)\u001b[0m\n\u001b[0;32m      6\u001b[0m         \u001b[0mself\u001b[0m\u001b[1;33m.\u001b[0m\u001b[0mfirst\u001b[0m \u001b[1;33m=\u001b[0m \u001b[0mfirst\u001b[0m\u001b[1;33m\u001b[0m\u001b[1;33m\u001b[0m\u001b[0m\n\u001b[0;32m      7\u001b[0m         \u001b[0mself\u001b[0m\u001b[1;33m.\u001b[0m\u001b[0mlast\u001b[0m \u001b[1;33m=\u001b[0m \u001b[0mlast\u001b[0m\u001b[1;33m\u001b[0m\u001b[1;33m\u001b[0m\u001b[0m\n\u001b[1;32m----> 8\u001b[1;33m         \u001b[0mself\u001b[0m\u001b[1;33m.\u001b[0m\u001b[0memail\u001b[0m \u001b[1;33m=\u001b[0m \u001b[0mfirst\u001b[0m \u001b[1;33m+\u001b[0m \u001b[1;34m'.'\u001b[0m \u001b[1;33m+\u001b[0m \u001b[0mlast\u001b[0m \u001b[1;33m+\u001b[0m \u001b[1;34m'@email.com'\u001b[0m\u001b[1;33m\u001b[0m\u001b[1;33m\u001b[0m\u001b[0m\n\u001b[0m\u001b[0;32m      9\u001b[0m \u001b[1;33m\u001b[0m\u001b[0m\n\u001b[0;32m     10\u001b[0m     \u001b[1;33m@\u001b[0m\u001b[0mproperty\u001b[0m\u001b[1;33m\u001b[0m\u001b[1;33m\u001b[0m\u001b[0m\n",
      "\u001b[1;31mAttributeError\u001b[0m: can't set attribute"
     ]
    }
   ],
   "source": [
    "# Property decoratiors - getters, setters, deleters\n",
    "\n",
    "class Employee:\n",
    "    \n",
    "    def __init__(self, first, last):\n",
    "        self.first = first\n",
    "        self.last = last\n",
    "        self.email = first + '.' + last + '@email.com'\n",
    "    \n",
    "    @property\n",
    "    def email(self):\n",
    "        return '{}.{}@email.com'.format(self.first, self.last)\n",
    "        \n",
    "    @property\n",
    "    def fullname(self):\n",
    "        return '{} {}'.format(self.first, self.last)\n",
    "    \n",
    "    @fullname.setter\n",
    "    def fullname(self, name):\n",
    "        first, last = name.split(' ')\n",
    "        self.first = first\n",
    "        self.last = last\n",
    "        \n",
    "    @fullname.deleter\n",
    "    def fullname(self):\n",
    "        print('Delete Name!')\n",
    "        self.first = None\n",
    "        self.last = None\n",
    "          \n",
    "emp_1 = Employee('John', 'Smith')\n",
    "\n",
    "emp_1.fullname = 'Corey Schafer'\n",
    "\n",
    "print(emp_1.first)\n",
    "print(emp_1.email)\n",
    "print(emp_1.fullname())"
   ]
  },
  {
   "cell_type": "code",
   "execution_count": 21,
   "metadata": {},
   "outputs": [
    {
     "ename": "SyntaxError",
     "evalue": "invalid syntax (<ipython-input-21-733f9452bb38>, line 36)",
     "output_type": "error",
     "traceback": [
      "\u001b[1;36m  File \u001b[1;32m\"<ipython-input-21-733f9452bb38>\"\u001b[1;36m, line \u001b[1;32m36\u001b[0m\n\u001b[1;33m    del.emp_1.fullname\u001b[0m\n\u001b[1;37m       ^\u001b[0m\n\u001b[1;31mSyntaxError\u001b[0m\u001b[1;31m:\u001b[0m invalid syntax\n"
     ]
    }
   ],
   "source": [
    "class Employee:\n",
    "    \n",
    "    def __init__(self, first, last, pay):\n",
    "        self.first = first\n",
    "        self.last = last\n",
    "        self.email = first + '.' + last + '@email.com'\n",
    "    \n",
    "    @property\n",
    "    def email(self):\n",
    "        return '{}.{}@email.com'.format(self.first, self.last)\n",
    "        \n",
    "    @property\n",
    "    def fullname(self):\n",
    "        return '{} {}'.format(self.first, self.last)\n",
    "    \n",
    "    @fullname.setter\n",
    "    def fullname(self, name):\n",
    "        first, last = name.split(' ')\n",
    "        self.first = first\n",
    "        self.last = last\n",
    "        \n",
    "    @fullname.deleter\n",
    "    def fullname(self):\n",
    "        print('Delete Name!')\n",
    "        self.first = None\n",
    "        self.last = None\n",
    "          \n",
    "emp_1 = Employee('John', 'Smith')\n",
    "\n",
    "emp_1.fullname = 'Corey Schafer'\n",
    "\n",
    "print(emp_1.first)\n",
    "print(emp_1.email)\n",
    "print(emp_1.fullname())\n",
    "\n",
    "del.emp_1.fullname"
   ]
  }
 ],
 "metadata": {
  "kernelspec": {
   "display_name": "Python 3",
   "language": "python",
   "name": "python3"
  },
  "language_info": {
   "codemirror_mode": {
    "name": "ipython",
    "version": 3
   },
   "file_extension": ".py",
   "mimetype": "text/x-python",
   "name": "python",
   "nbconvert_exporter": "python",
   "pygments_lexer": "ipython3",
   "version": "3.8.5"
  }
 },
 "nbformat": 4,
 "nbformat_minor": 4
}
